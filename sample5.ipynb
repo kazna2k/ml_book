{
 "cells": [
  {
   "cell_type": "markdown",
   "metadata": {},
   "source": [
    "# この文字列はh1で表示されます\n",
    "## この文字列はh2で表示されます\n",
    "### この文字列はh3で表示されます。\n",
    "*斜体* で表示されます。\n",
    "**太字** で表示されます。\n",
    "\n",
    "```python\n",
    "import sys\n",
    "print(\"Markdownの中にさらにコードを埋め込むことができます\")\n",
    "print(sys.version)\n",
    "```\n",
    "\n",
    "[myナビブックス](https://book.mynavi.jp/)とすればリンクを記述することができます。\n",
    "\n",
    "次のようにLaTex形式で数式を記述することができます。\n",
    "\n",
    "$ y = ax $\n",
    "\n",
    "外部の画像ファイルをこのようにセル内に埋め込むことも簡単です。\n",
    "![画像1](http://pub.mynavi.jp/wp-content/uploads/2015/09/ico_mynavibooks.png)"
   ]
  }
 ],
 "metadata": {
  "kernelspec": {
   "display_name": "conda_python3",
   "language": "python",
   "name": "conda_python3"
  },
  "language_info": {
   "codemirror_mode": {
    "name": "ipython",
    "version": 3
   },
   "file_extension": ".py",
   "mimetype": "text/x-python",
   "name": "python",
   "nbconvert_exporter": "python",
   "pygments_lexer": "ipython3",
   "version": "3.6.10"
  }
 },
 "nbformat": 4,
 "nbformat_minor": 4
}
