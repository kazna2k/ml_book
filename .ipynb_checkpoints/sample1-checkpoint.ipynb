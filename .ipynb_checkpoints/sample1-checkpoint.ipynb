{
 "cells": [
  {
   "cell_type": "code",
   "execution_count": 1,
   "metadata": {},
   "outputs": [
    {
     "name": "stdout",
     "output_type": "stream",
     "text": [
      "Hello, Jupyter Lab\n"
     ]
    }
   ],
   "source": [
    "print(\"Hello, Jupyter Lab\")"
   ]
  },
  {
   "cell_type": "code",
   "execution_count": 2,
   "metadata": {},
   "outputs": [
    {
     "data": {
      "text/plain": [
       "'3.6.10 |Anaconda, Inc.| (default, Mar 25 2020, 23:51:54) \\n[GCC 7.3.0]'"
      ]
     },
     "execution_count": 2,
     "metadata": {},
     "output_type": "execute_result"
    }
   ],
   "source": [
    "import sys\n",
    "sys.version"
   ]
  },
  {
   "cell_type": "code",
   "execution_count": 3,
   "metadata": {},
   "outputs": [],
   "source": [
    "for i in range(10):\n",
    "    i"
   ]
  },
  {
   "cell_type": "code",
   "execution_count": 4,
   "metadata": {},
   "outputs": [
    {
     "name": "stdout",
     "output_type": "stream",
     "text": [
      "9\n"
     ]
    }
   ],
   "source": [
    "print(i)"
   ]
  },
  {
   "cell_type": "markdown",
   "metadata": {},
   "source": [
    "# この文字列はh1で表示されます\n",
    "## この文字列はh2で表示されます\n",
    "### この文字列はh3で表示されます。\n",
    "*斜体* で表示されます。\n",
    "**太字** で表示されます。\n",
    "\n",
    "```python\n",
    "import sys\n",
    "print(\"Markdownの中にさらにコードを埋め込むことができます\")\n",
    "print(sys.version)\n",
    "```\n",
    "\n",
    "[myナビブックス](https://book.mynavi.jp/)とすればリンクを記述することができます。\n",
    "\n",
    "次のようにLaTex形式で数式を記述することができます。\n",
    "\n",
    "$ y = ax $\n",
    "\n",
    "外部の画像ファイルをこのようにセル内に埋め込むことも簡単です。\n",
    "![画像1](http://pub.mynavi.jp/wp-content/uploads/2015/09/ico_mynavibooks.png)"
   ]
  },
  {
   "cell_type": "code",
   "execution_count": null,
   "metadata": {},
   "outputs": [],
   "source": []
  }
 ],
 "metadata": {
  "kernelspec": {
   "display_name": "conda_python3",
   "language": "python",
   "name": "conda_python3"
  },
  "language_info": {
   "codemirror_mode": {
    "name": "ipython",
    "version": 3
   },
   "file_extension": ".py",
   "mimetype": "text/x-python",
   "name": "python",
   "nbconvert_exporter": "python",
   "pygments_lexer": "ipython3",
   "version": "3.6.10"
  }
 },
 "nbformat": 4,
 "nbformat_minor": 4
}
